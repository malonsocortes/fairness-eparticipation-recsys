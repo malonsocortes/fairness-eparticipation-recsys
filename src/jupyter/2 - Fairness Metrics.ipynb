{
 "cells": [
  {
   "cell_type": "markdown",
   "id": "4de6a88b",
   "metadata": {
    "pycharm": {
     "name": "#%% md\n"
    }
   },
   "source": [
    "# Fairness Metrics"
   ]
  },
  {
   "cell_type": "code",
   "execution_count": 2,
   "id": "59307ec6",
   "metadata": {
    "pycharm": {
     "name": "#%%\n"
    }
   },
   "outputs": [],
   "source": [
    "import numpy as np\n",
    "from scipy.sparse import csr_matrix, load_npz\n",
    "\n",
    "import sys\n",
    "import os\n",
    "import pandas as pd\n",
    "\n",
    "module_path = os.path.abspath(os.path.join('..'))\n",
    "if module_path not in sys.path:\n",
    "    sys.path.append(module_path+\"/python\")\n",
    "\n",
    "\n",
    "from dm_function_lib import read_table, get_ratings_df\n",
    "from fairness_evaluation import GCE"
   ]
  },
  {
   "cell_type": "code",
   "execution_count": 3,
   "id": "ac415ab8",
   "metadata": {
    "pycharm": {
     "name": "#%%\n"
    }
   },
   "outputs": [],
   "source": [
    "TYPES_ORDER = {\"minority\": 0, \"nimby\": 1, \"no_type\": 2}\n",
    "\n",
    "MODEL_ORDER = {\"rand\":0, \"pop\": 1, \"pop_nc\":2,\n",
    "               \"ib\": 3, \"ub\":4, \"mf\": 5, \"bpr\": 6,\n",
    "               \"cb_cat\": 7, \"cb_top\": 8, \"cb_loc\":9,\n",
    "               \"cbib_cat\":10, \"cbib_top\":11, \"cbib_loc\":12,\n",
    "               \"cbub_cat\":13, \"cbub_top\":14, \"cbub_loc\":15}"
   ]
  },
  {
   "cell_type": "code",
   "execution_count": 4,
   "id": "9556959e",
   "metadata": {
    "pycharm": {
     "name": "#%%\n"
    }
   },
   "outputs": [],
   "source": [
    "def create_dataframes(c, types):\n",
    "    proposal_cnv = pd.read_csv(f'../../data/rm/{c}/rm_{c}_proposalId_cnv.csv', sep=';')\n",
    "    types_prop = pd.concat([types[types.proposalId.isin(proposal_cnv.proposalId)],\n",
    "                            pd.DataFrame(data={'proposalId':\n",
    "                                               proposal_cnv[~proposal_cnv['proposalId']\\\n",
    "                                                            .isin(types['proposalId'])].proposalId,\n",
    "                                               'type': ['no_type']*proposal_cnv[~proposal_cnv['proposalId']\\\n",
    "                                                                                .isin(types['proposalId'])].shape[0],\n",
    "                                               'ranking':[0]*proposal_cnv[~proposal_cnv['proposalId']\\\n",
    "                                                                       .isin(types['proposalId'])].shape[0]})\n",
    "                           ]).sort_values('proposalId').reset_index(drop=True)\n",
    "    \n",
    "    # Delete duplicates\n",
    "    types_prop = \\\n",
    "        types_prop.loc[types_prop.groupby('proposalId').ranking.idxmin().reset_index().set_index('ranking').index]\\\n",
    "            .reset_index(drop=True)\n",
    "    \n",
    "    df_test_types_prop = get_ratings_df(load_npz(f'../../data/rm/{c}/rm_{c}_test.npz'),\n",
    "                                        rm_info={'userId_cnv':\n",
    "                                                 pd.read_csv(f'../../data/rm/{c}/rm_{c}_userId_cnv.csv', sep=';'),\n",
    "                                                 'proposalId_cnv': proposal_cnv})\\\n",
    "    .merge(types_prop, how='left', on='proposalId')\n",
    "    \n",
    "    df_train_types_prop = get_ratings_df(load_npz(f'../../data/rm/{c}/rm_{c}_train.npz'),\n",
    "                                         rm_info={'userId_cnv':\n",
    "                                                  pd.read_csv(f'../../data/rm/{c}/rm_{c}_userId_cnv.csv', sep=';'),\n",
    "                                                  'proposalId_cnv': proposal_cnv})\\\n",
    "        .merge(types_prop, how='left', on='proposalId')\n",
    "    \n",
    "    return proposal_cnv, types_prop, df_test_types_prop, df_train_types_prop"
   ]
  },
  {
   "cell_type": "code",
   "execution_count": 5,
   "id": "16b70227",
   "metadata": {
    "pycharm": {
     "name": "#%%\n"
    }
   },
   "outputs": [],
   "source": [
    "def fairness_results(c, proposal_cnv, types_prop, df_test_types_prop):\n",
    "    model_list = os.listdir(f'../../data/recommendations/')\n",
    "    model_list.remove('.DS_Store')\n",
    "    model_list.remove('model_history.csv')\n",
    "\n",
    "    gce_results = []\n",
    "    pm_t = []\n",
    "    for m in model_list:\n",
    "        \n",
    "        m_name = m.split('.')[0].split('rec_')[1]\n",
    "        df_rec_m = pd.read_csv(f'../../data/recommendations/{m}', sep=';')\n",
    "        df_rec_m_types_prop = df_rec_m.merge(types_prop, how='left', on='proposalId')\n",
    "\n",
    "        types_prop_m = types_prop[(types_prop.proposalId.isin(proposal_cnv.proposalId)) & \\\n",
    "                              (types_prop.proposalId.isin(df_rec_m.proposalId))].reset_index(drop=True)\n",
    "\n",
    "        types_prop_m_values= list(types_prop_m['type'].unique())\n",
    "        types_prop_m_values.sort(key=lambda val: TYPES_ORDER[val])\n",
    "\n",
    "        types_prop_m_name = 'type'\n",
    "        \n",
    "        # Uniform\n",
    "        p0 = dict(zip(types_prop_m_values, [1 / len(types_prop_m_values) for i in range(0, len(types_prop_m_values))]))\n",
    "        # each = num_likes_test_cat/num_likes_test\n",
    "        d =  df_test_types_prop.groupby('type').count()['proposalId'].to_dict()\n",
    "        d = [d[k] for k in sorted(TYPES_ORDER, key=TYPES_ORDER.get)]\n",
    "        p1 = dict(zip(types_prop_m_values, [v/np.sum(d) for v in d]))\n",
    "        # minority = 0.5, rest = 0.1\n",
    "        p2 = dict(zip(types_prop_m_values, [0.8, 0.1, 0.1]))\n",
    "        # nimby = 0.5, rest = 0.1\n",
    "        p3 = dict(zip(types_prop_m_values, [0.1, 0.8, 0.1]))\n",
    "        # no_type = 0.1, rest = 0.9/num_rest\n",
    "        p7 = dict(zip(types_prop_m_values, [0.9 / (len(types_prop_m_values)-1) \n",
    "                                          for i in range(0, len(types_prop_m_values)-1)]+[0.1]))\n",
    "        \n",
    "        pf = {'p_uniform':p0, 'p_test':p1, 'p_minority':p2, 'p_nimby':p3, 'p_min_nimby':p7}\n",
    "\n",
    "        gce_df = pd.DataFrame(index=[m_name])\n",
    "        \n",
    "        for n, p in zip(pf.keys(), pf.values()):\n",
    "\n",
    "            gce_df[n], pm = GCE(proposalIds=proposal_cnv.proposalId.unique(),\n",
    "                            df_rec_attributes=df_rec_m_types_prop, \n",
    "                            df_test_attributes=df_test_types_prop,\n",
    "                            proposal_attributes=types_prop_m,\n",
    "                            p_f=p,\n",
    "                            fun='ndcg', beta=2, h=0.95, pc=0.0001)\n",
    "        pm_t.append(pd.DataFrame(data=pm, index=[f'pm_{m_name}']))\n",
    "        gce_results.append(gce_df)\n",
    "\n",
    "    gce_results = pd.concat(gce_results)\n",
    "    pm_t = pd.concat(pm_t)\n",
    "    pm_t = pm_t[TYPES_ORDER.keys()]\n",
    "    return gce_results.loc[[s for s in MODEL_ORDER.keys()]], pm_t.loc[[f'pm_{s}' for s in MODEL_ORDER.keys()]], pf"
   ]
  },
  {
   "cell_type": "code",
   "execution_count": 6,
   "id": "eb41dabb",
   "metadata": {
    "pycharm": {
     "name": "#%%\n"
    }
   },
   "outputs": [],
   "source": [
    "types = pd.read_excel('../../data/group_proposals4[3].xlsx', decimal=',', )[['id', 'type', 'ranking']]\\\n",
    "    .rename(columns={'id':'proposalId'})"
   ]
  },
  {
   "cell_type": "markdown",
   "id": "2f99e066",
   "metadata": {
    "pycharm": {
     "name": "#%% md\n"
    }
   },
   "source": [
    "# GCE for NYMBI, Minority y NO_TYPE"
   ]
  },
  {
   "cell_type": "code",
   "execution_count": 7,
   "id": "e3b822e5",
   "metadata": {
    "pycharm": {
     "name": "#%%\n"
    }
   },
   "outputs": [],
   "source": [
    "c = 'c1'"
   ]
  },
  {
   "cell_type": "code",
   "execution_count": 8,
   "id": "a83fdb4b",
   "metadata": {
    "pycharm": {
     "name": "#%%\n"
    }
   },
   "outputs": [],
   "source": [
    "proposal_cnv, types_prop, df_test_types, df_train_types = create_dataframes(c, types)"
   ]
  },
  {
   "cell_type": "code",
   "execution_count": 9,
   "id": "afca61ff",
   "metadata": {
    "pycharm": {
     "name": "#%%\n"
    }
   },
   "outputs": [
    {
     "data": {
      "text/plain": "      proposalId     type  ranking\n0              1  no_type        0\n1              2  no_type        0\n2              3  no_type        0\n3              4  no_type        0\n4              5  no_type        0\n...          ...      ...      ...\n9672       13517  no_type        0\n9673       13521  no_type        0\n9674       13522  no_type        0\n9675       13525  no_type        0\n9676       13526  no_type        0\n\n[9677 rows x 3 columns]",
      "text/html": "<div>\n<style scoped>\n    .dataframe tbody tr th:only-of-type {\n        vertical-align: middle;\n    }\n\n    .dataframe tbody tr th {\n        vertical-align: top;\n    }\n\n    .dataframe thead th {\n        text-align: right;\n    }\n</style>\n<table border=\"1\" class=\"dataframe\">\n  <thead>\n    <tr style=\"text-align: right;\">\n      <th></th>\n      <th>proposalId</th>\n      <th>type</th>\n      <th>ranking</th>\n    </tr>\n  </thead>\n  <tbody>\n    <tr>\n      <th>0</th>\n      <td>1</td>\n      <td>no_type</td>\n      <td>0</td>\n    </tr>\n    <tr>\n      <th>1</th>\n      <td>2</td>\n      <td>no_type</td>\n      <td>0</td>\n    </tr>\n    <tr>\n      <th>2</th>\n      <td>3</td>\n      <td>no_type</td>\n      <td>0</td>\n    </tr>\n    <tr>\n      <th>3</th>\n      <td>4</td>\n      <td>no_type</td>\n      <td>0</td>\n    </tr>\n    <tr>\n      <th>4</th>\n      <td>5</td>\n      <td>no_type</td>\n      <td>0</td>\n    </tr>\n    <tr>\n      <th>...</th>\n      <td>...</td>\n      <td>...</td>\n      <td>...</td>\n    </tr>\n    <tr>\n      <th>9672</th>\n      <td>13517</td>\n      <td>no_type</td>\n      <td>0</td>\n    </tr>\n    <tr>\n      <th>9673</th>\n      <td>13521</td>\n      <td>no_type</td>\n      <td>0</td>\n    </tr>\n    <tr>\n      <th>9674</th>\n      <td>13522</td>\n      <td>no_type</td>\n      <td>0</td>\n    </tr>\n    <tr>\n      <th>9675</th>\n      <td>13525</td>\n      <td>no_type</td>\n      <td>0</td>\n    </tr>\n    <tr>\n      <th>9676</th>\n      <td>13526</td>\n      <td>no_type</td>\n      <td>0</td>\n    </tr>\n  </tbody>\n</table>\n<p>9677 rows × 3 columns</p>\n</div>"
     },
     "execution_count": 9,
     "metadata": {},
     "output_type": "execute_result"
    }
   ],
   "source": [
    "types_prop"
   ]
  },
  {
   "cell_type": "code",
   "execution_count": 10,
   "id": "21e39fd0",
   "metadata": {
    "pycharm": {
     "name": "#%%\n"
    }
   },
   "outputs": [
    {
     "data": {
      "text/plain": "          proposalId  ranking\ntype                         \nminority         776      776\nnimby            639      639\nno_type         8262     8262",
      "text/html": "<div>\n<style scoped>\n    .dataframe tbody tr th:only-of-type {\n        vertical-align: middle;\n    }\n\n    .dataframe tbody tr th {\n        vertical-align: top;\n    }\n\n    .dataframe thead th {\n        text-align: right;\n    }\n</style>\n<table border=\"1\" class=\"dataframe\">\n  <thead>\n    <tr style=\"text-align: right;\">\n      <th></th>\n      <th>proposalId</th>\n      <th>ranking</th>\n    </tr>\n    <tr>\n      <th>type</th>\n      <th></th>\n      <th></th>\n    </tr>\n  </thead>\n  <tbody>\n    <tr>\n      <th>minority</th>\n      <td>776</td>\n      <td>776</td>\n    </tr>\n    <tr>\n      <th>nimby</th>\n      <td>639</td>\n      <td>639</td>\n    </tr>\n    <tr>\n      <th>no_type</th>\n      <td>8262</td>\n      <td>8262</td>\n    </tr>\n  </tbody>\n</table>\n</div>"
     },
     "execution_count": 10,
     "metadata": {},
     "output_type": "execute_result"
    }
   ],
   "source": [
    "num_group = types_prop.groupby('type').count()\n",
    "num_group"
   ]
  },
  {
   "cell_type": "code",
   "execution_count": 11,
   "id": "a3d387c9",
   "metadata": {
    "scrolled": true,
    "pycharm": {
     "name": "#%%\n"
    }
   },
   "outputs": [],
   "source": [
    "gce_results, pm, pf = fairness_results(c, proposal_cnv, types_prop, df_test_types)"
   ]
  },
  {
   "cell_type": "code",
   "execution_count": 12,
   "id": "7ddd174f",
   "metadata": {
    "pycharm": {
     "name": "#%%\n"
    }
   },
   "outputs": [],
   "source": [
    "gce_results['nDCG'] = pd.read_csv('../../data/result_metrics/ranking_50.csv',index_col=0)[['nDCG']]\n",
    "gce_results = gce_results[['nDCG', 'p_uniform', 'p_test', 'p_minority', 'p_nimby', 'p_min_nimby']]\n",
    "gce_results.to_csv(f'../../data/result_metrics/gce_50.csv')"
   ]
  },
  {
   "cell_type": "code",
   "execution_count": 13,
   "outputs": [
    {
     "data": {
      "text/plain": "<pandas.io.formats.style.Styler at 0x7f9565030520>",
      "text/html": "<style type=\"text/css\">\n#T_77cd6_row0_col0, #T_77cd6_row1_col1, #T_77cd6_row1_col3, #T_77cd6_row1_col5, #T_77cd6_row2_col2, #T_77cd6_row6_col4 {\n  background-color: #fff7fb;\n  color: #000000;\n}\n#T_77cd6_row0_col1 {\n  background-color: #88b1d4;\n  color: #000000;\n}\n#T_77cd6_row0_col2 {\n  background-color: #4094c3;\n  color: #f1f1f1;\n}\n#T_77cd6_row0_col3 {\n  background-color: #023f64;\n  color: #f1f1f1;\n}\n#T_77cd6_row0_col4, #T_77cd6_row6_col0 {\n  background-color: #bcc7e1;\n  color: #000000;\n}\n#T_77cd6_row0_col5, #T_77cd6_row8_col4 {\n  background-color: #89b1d4;\n  color: #000000;\n}\n#T_77cd6_row1_col0, #T_77cd6_row2_col4, #T_77cd6_row5_col2, #T_77cd6_row6_col3, #T_77cd6_row15_col1, #T_77cd6_row15_col5 {\n  background-color: #023858;\n  color: #f1f1f1;\n}\n#T_77cd6_row1_col2 {\n  background-color: #6fa7ce;\n  color: #f1f1f1;\n}\n#T_77cd6_row1_col4 {\n  background-color: #046097;\n  color: #f1f1f1;\n}\n#T_77cd6_row2_col0 {\n  background-color: #05659f;\n  color: #f1f1f1;\n}\n#T_77cd6_row2_col1 {\n  background-color: #034973;\n  color: #f1f1f1;\n}\n#T_77cd6_row2_col3, #T_77cd6_row14_col1 {\n  background-color: #2d8abd;\n  color: #f1f1f1;\n}\n#T_77cd6_row2_col5 {\n  background-color: #03466e;\n  color: #f1f1f1;\n}\n#T_77cd6_row3_col0 {\n  background-color: #e7e3f0;\n  color: #000000;\n}\n#T_77cd6_row3_col1 {\n  background-color: #056dab;\n  color: #f1f1f1;\n}\n#T_77cd6_row3_col2 {\n  background-color: #02395a;\n  color: #f1f1f1;\n}\n#T_77cd6_row3_col3 {\n  background-color: #0567a1;\n  color: #f1f1f1;\n}\n#T_77cd6_row3_col4 {\n  background-color: #1379b5;\n  color: #f1f1f1;\n}\n#T_77cd6_row3_col5 {\n  background-color: #056dac;\n  color: #f1f1f1;\n}\n#T_77cd6_row4_col0, #T_77cd6_row14_col5 {\n  background-color: #2f8bbe;\n  color: #f1f1f1;\n}\n#T_77cd6_row4_col1, #T_77cd6_row4_col5 {\n  background-color: #045b8f;\n  color: #f1f1f1;\n}\n#T_77cd6_row4_col2 {\n  background-color: #0567a2;\n  color: #f1f1f1;\n}\n#T_77cd6_row4_col3 {\n  background-color: #0a73b2;\n  color: #f1f1f1;\n}\n#T_77cd6_row4_col4 {\n  background-color: #045d92;\n  color: #f1f1f1;\n}\n#T_77cd6_row5_col0 {\n  background-color: #046299;\n  color: #f1f1f1;\n}\n#T_77cd6_row5_col1, #T_77cd6_row10_col2 {\n  background-color: #157ab5;\n  color: #f1f1f1;\n}\n#T_77cd6_row5_col3 {\n  background-color: #0566a0;\n  color: #f1f1f1;\n}\n#T_77cd6_row5_col4 {\n  background-color: #2786bb;\n  color: #f1f1f1;\n}\n#T_77cd6_row5_col5 {\n  background-color: #167bb6;\n  color: #f1f1f1;\n}\n#T_77cd6_row6_col1 {\n  background-color: #f1ebf4;\n  color: #000000;\n}\n#T_77cd6_row6_col2 {\n  background-color: #fdf5fa;\n  color: #000000;\n}\n#T_77cd6_row6_col5 {\n  background-color: #f1ebf5;\n  color: #000000;\n}\n#T_77cd6_row7_col0 {\n  background-color: #ede7f2;\n  color: #000000;\n}\n#T_77cd6_row7_col1 {\n  background-color: #e0deed;\n  color: #000000;\n}\n#T_77cd6_row7_col2 {\n  background-color: #056ba7;\n  color: #f1f1f1;\n}\n#T_77cd6_row7_col3 {\n  background-color: #4496c3;\n  color: #f1f1f1;\n}\n#T_77cd6_row7_col4 {\n  background-color: #8fb4d6;\n  color: #000000;\n}\n#T_77cd6_row7_col5 {\n  background-color: #e1dfed;\n  color: #000000;\n}\n#T_77cd6_row8_col0 {\n  background-color: #cdd0e5;\n  color: #000000;\n}\n#T_77cd6_row8_col1 {\n  background-color: #c4cbe3;\n  color: #000000;\n}\n#T_77cd6_row8_col2, #T_77cd6_row11_col2 {\n  background-color: #04649d;\n  color: #f1f1f1;\n}\n#T_77cd6_row8_col3 {\n  background-color: #2383ba;\n  color: #f1f1f1;\n}\n#T_77cd6_row8_col5 {\n  background-color: #c5cce3;\n  color: #000000;\n}\n#T_77cd6_row9_col0 {\n  background-color: #f2ecf5;\n  color: #000000;\n}\n#T_77cd6_row9_col1, #T_77cd6_row9_col5 {\n  background-color: #056ead;\n  color: #f1f1f1;\n}\n#T_77cd6_row9_col2 {\n  background-color: #023d60;\n  color: #f1f1f1;\n}\n#T_77cd6_row9_col3, #T_77cd6_row14_col3 {\n  background-color: #045483;\n  color: #f1f1f1;\n}\n#T_77cd6_row9_col4 {\n  background-color: #3790c0;\n  color: #f1f1f1;\n}\n#T_77cd6_row10_col0 {\n  background-color: #f0eaf4;\n  color: #000000;\n}\n#T_77cd6_row10_col1 {\n  background-color: #faf2f8;\n  color: #000000;\n}\n#T_77cd6_row10_col3 {\n  background-color: #71a8ce;\n  color: #f1f1f1;\n}\n#T_77cd6_row10_col4 {\n  background-color: #9ab8d8;\n  color: #000000;\n}\n#T_77cd6_row10_col5 {\n  background-color: #faf3f9;\n  color: #000000;\n}\n#T_77cd6_row11_col0 {\n  background-color: #d5d5e8;\n  color: #000000;\n}\n#T_77cd6_row11_col1 {\n  background-color: #d3d4e7;\n  color: #000000;\n}\n#T_77cd6_row11_col3 {\n  background-color: #3991c1;\n  color: #f1f1f1;\n}\n#T_77cd6_row11_col4 {\n  background-color: #86b0d3;\n  color: #000000;\n}\n#T_77cd6_row11_col5 {\n  background-color: #d4d4e8;\n  color: #000000;\n}\n#T_77cd6_row12_col0 {\n  background-color: #f7f0f7;\n  color: #000000;\n}\n#T_77cd6_row12_col1, #T_77cd6_row12_col5 {\n  background-color: #034267;\n  color: #f1f1f1;\n}\n#T_77cd6_row12_col2, #T_77cd6_row14_col2 {\n  background-color: #034e7b;\n  color: #f1f1f1;\n}\n#T_77cd6_row12_col3 {\n  background-color: #045585;\n  color: #f1f1f1;\n}\n#T_77cd6_row12_col4 {\n  background-color: #0569a5;\n  color: #f1f1f1;\n}\n#T_77cd6_row13_col0 {\n  background-color: #5a9ec9;\n  color: #f1f1f1;\n}\n#T_77cd6_row13_col1 {\n  background-color: #308cbe;\n  color: #f1f1f1;\n}\n#T_77cd6_row13_col2 {\n  background-color: #045382;\n  color: #f1f1f1;\n}\n#T_77cd6_row13_col3 {\n  background-color: #045280;\n  color: #f1f1f1;\n}\n#T_77cd6_row13_col4 {\n  background-color: #6ba5cd;\n  color: #f1f1f1;\n}\n#T_77cd6_row13_col5 {\n  background-color: #328dbf;\n  color: #f1f1f1;\n}\n#T_77cd6_row14_col0 {\n  background-color: #4897c4;\n  color: #f1f1f1;\n}\n#T_77cd6_row14_col4 {\n  background-color: #63a2cb;\n  color: #f1f1f1;\n}\n#T_77cd6_row15_col0 {\n  background-color: #78abd0;\n  color: #f1f1f1;\n}\n#T_77cd6_row15_col2 {\n  background-color: #034b76;\n  color: #f1f1f1;\n}\n#T_77cd6_row15_col3 {\n  background-color: #034369;\n  color: #f1f1f1;\n}\n#T_77cd6_row15_col4 {\n  background-color: #056fae;\n  color: #f1f1f1;\n}\n</style>\n<table id=\"T_77cd6\">\n  <thead>\n    <tr>\n      <th class=\"blank level0\" >&nbsp;</th>\n      <th id=\"T_77cd6_level0_col0\" class=\"col_heading level0 col0\" >nDCG</th>\n      <th id=\"T_77cd6_level0_col1\" class=\"col_heading level0 col1\" >p_uniform</th>\n      <th id=\"T_77cd6_level0_col2\" class=\"col_heading level0 col2\" >p_test</th>\n      <th id=\"T_77cd6_level0_col3\" class=\"col_heading level0 col3\" >p_minority</th>\n      <th id=\"T_77cd6_level0_col4\" class=\"col_heading level0 col4\" >p_nimby</th>\n      <th id=\"T_77cd6_level0_col5\" class=\"col_heading level0 col5\" >p_min_nimby</th>\n    </tr>\n  </thead>\n  <tbody>\n    <tr>\n      <th id=\"T_77cd6_level0_row0\" class=\"row_heading level0 row0\" >rand</th>\n      <td id=\"T_77cd6_row0_col0\" class=\"data row0 col0\" >0.001</td>\n      <td id=\"T_77cd6_row0_col1\" class=\"data row0 col1\" >-1.088</td>\n      <td id=\"T_77cd6_row0_col2\" class=\"data row0 col2\" >-0.012</td>\n      <td id=\"T_77cd6_row0_col3\" class=\"data row0 col3\" >-3.536</td>\n      <td id=\"T_77cd6_row0_col4\" class=\"data row0 col4\" >-4.382</td>\n      <td id=\"T_77cd6_row0_col5\" class=\"data row0 col5\" >-2.281</td>\n    </tr>\n    <tr>\n      <th id=\"T_77cd6_level0_row1\" class=\"row_heading level0 row1\" >pop</th>\n      <td id=\"T_77cd6_row1_col0\" class=\"data row1 col0\" >0.060</td>\n      <td id=\"T_77cd6_row1_col1\" class=\"data row1 col1\" >-1.369</td>\n      <td id=\"T_77cd6_row1_col2\" class=\"data row1 col2\" >-0.014</td>\n      <td id=\"T_77cd6_row1_col3\" class=\"data row1 col3\" >-7.611</td>\n      <td id=\"T_77cd6_row1_col4\" class=\"data row1 col4\" >-1.939</td>\n      <td id=\"T_77cd6_row1_col5\" class=\"data row1 col5\" >-2.789</td>\n    </tr>\n    <tr>\n      <th id=\"T_77cd6_level0_row2\" class=\"row_heading level0 row2\" >pop_nc</th>\n      <td id=\"T_77cd6_row2_col0\" class=\"data row2 col0\" >0.049</td>\n      <td id=\"T_77cd6_row2_col1\" class=\"data row2 col1\" >-0.786</td>\n      <td id=\"T_77cd6_row2_col2\" class=\"data row2 col2\" >-0.029</td>\n      <td id=\"T_77cd6_row2_col3\" class=\"data row2 col3\" >-4.898</td>\n      <td id=\"T_77cd6_row2_col4\" class=\"data row2 col4\" >-1.200</td>\n      <td id=\"T_77cd6_row2_col5\" class=\"data row2 col5\" >-1.714</td>\n    </tr>\n    <tr>\n      <th id=\"T_77cd6_level0_row3\" class=\"row_heading level0 row3\" >ib</th>\n      <td id=\"T_77cd6_row3_col0\" class=\"data row3 col0\" >0.010</td>\n      <td id=\"T_77cd6_row3_col1\" class=\"data row3 col1\" >-0.892</td>\n      <td id=\"T_77cd6_row3_col2\" class=\"data row3 col2\" >-0.000</td>\n      <td id=\"T_77cd6_row3_col3\" class=\"data row3 col3\" >-4.238</td>\n      <td id=\"T_77cd6_row3_col4\" class=\"data row3 col4\" >-2.523</td>\n      <td id=\"T_77cd6_row3_col5\" class=\"data row3 col5\" >-1.920</td>\n    </tr>\n    <tr>\n      <th id=\"T_77cd6_level0_row4\" class=\"row_heading level0 row4\" >ub</th>\n      <td id=\"T_77cd6_row4_col0\" class=\"data row4 col0\" >0.039</td>\n      <td id=\"T_77cd6_row4_col1\" class=\"data row4 col1\" >-0.831</td>\n      <td id=\"T_77cd6_row4_col2\" class=\"data row4 col2\" >-0.006</td>\n      <td id=\"T_77cd6_row4_col3\" class=\"data row4 col3\" >-4.526</td>\n      <td id=\"T_77cd6_row4_col4\" class=\"data row4 col4\" >-1.862</td>\n      <td id=\"T_77cd6_row4_col5\" class=\"data row4 col5\" >-1.804</td>\n    </tr>\n    <tr>\n      <th id=\"T_77cd6_level0_row5\" class=\"row_heading level0 row5\" >mf</th>\n      <td id=\"T_77cd6_row5_col0\" class=\"data row5 col0\" >0.050</td>\n      <td id=\"T_77cd6_row5_col1\" class=\"data row5 col1\" >-0.928</td>\n      <td id=\"T_77cd6_row5_col2\" class=\"data row5 col2\" >-0.000</td>\n      <td id=\"T_77cd6_row5_col3\" class=\"data row5 col3\" >-4.226</td>\n      <td id=\"T_77cd6_row5_col4\" class=\"data row5 col4\" >-2.749</td>\n      <td id=\"T_77cd6_row5_col5\" class=\"data row5 col5\" >-1.987</td>\n    </tr>\n    <tr>\n      <th id=\"T_77cd6_level0_row6\" class=\"row_heading level0 row6\" >bpr</th>\n      <td id=\"T_77cd6_row6_col0\" class=\"data row6 col0\" >0.020</td>\n      <td id=\"T_77cd6_row6_col1\" class=\"data row6 col1\" >-1.308</td>\n      <td id=\"T_77cd6_row6_col2\" class=\"data row6 col2\" >-0.028</td>\n      <td id=\"T_77cd6_row6_col3\" class=\"data row6 col3\" >-3.410</td>\n      <td id=\"T_77cd6_row6_col4\" class=\"data row6 col4\" >-5.804</td>\n      <td id=\"T_77cd6_row6_col5\" class=\"data row6 col5\" >-2.684</td>\n    </tr>\n    <tr>\n      <th id=\"T_77cd6_level0_row7\" class=\"row_heading level0 row7\" >cb_cat</th>\n      <td id=\"T_77cd6_row7_col0\" class=\"data row7 col0\" >0.009</td>\n      <td id=\"T_77cd6_row7_col1\" class=\"data row7 col1\" >-1.258</td>\n      <td id=\"T_77cd6_row7_col2\" class=\"data row7 col2\" >-0.006</td>\n      <td id=\"T_77cd6_row7_col3\" class=\"data row7 col3\" >-5.110</td>\n      <td id=\"T_77cd6_row7_col4\" class=\"data row7 col4\" >-3.809</td>\n      <td id=\"T_77cd6_row7_col5\" class=\"data row7 col5\" >-2.592</td>\n    </tr>\n    <tr>\n      <th id=\"T_77cd6_level0_row8\" class=\"row_heading level0 row8\" >cb_top</th>\n      <td id=\"T_77cd6_row8_col0\" class=\"data row8 col0\" >0.017</td>\n      <td id=\"T_77cd6_row8_col1\" class=\"data row8 col1\" >-1.190</td>\n      <td id=\"T_77cd6_row8_col2\" class=\"data row8 col2\" >-0.005</td>\n      <td id=\"T_77cd6_row8_col3\" class=\"data row8 col3\" >-4.776</td>\n      <td id=\"T_77cd6_row8_col4\" class=\"data row8 col4\" >-3.744</td>\n      <td id=\"T_77cd6_row8_col5\" class=\"data row8 col5\" >-2.468</td>\n    </tr>\n    <tr>\n      <th id=\"T_77cd6_level0_row9\" class=\"row_heading level0 row9\" >cb_loc</th>\n      <td id=\"T_77cd6_row9_col0\" class=\"data row9 col0\" >0.007</td>\n      <td id=\"T_77cd6_row9_col1\" class=\"data row9 col1\" >-0.896</td>\n      <td id=\"T_77cd6_row9_col2\" class=\"data row9 col2\" >-0.001</td>\n      <td id=\"T_77cd6_row9_col3\" class=\"data row9 col3\" >-3.845</td>\n      <td id=\"T_77cd6_row9_col4\" class=\"data row9 col4\" >-2.940</td>\n      <td id=\"T_77cd6_row9_col5\" class=\"data row9 col5\" >-1.927</td>\n    </tr>\n    <tr>\n      <th id=\"T_77cd6_level0_row10\" class=\"row_heading level0 row10\" >cbib_cat</th>\n      <td id=\"T_77cd6_row10_col0\" class=\"data row10 col0\" >0.007</td>\n      <td id=\"T_77cd6_row10_col1\" class=\"data row10 col1\" >-1.345</td>\n      <td id=\"T_77cd6_row10_col2\" class=\"data row10 col2\" >-0.008</td>\n      <td id=\"T_77cd6_row10_col3\" class=\"data row10 col3\" >-5.494</td>\n      <td id=\"T_77cd6_row10_col4\" class=\"data row10 col4\" >-3.938</td>\n      <td id=\"T_77cd6_row10_col5\" class=\"data row10 col5\" >-2.752</td>\n    </tr>\n    <tr>\n      <th id=\"T_77cd6_level0_row11\" class=\"row_heading level0 row11\" >cbib_top</th>\n      <td id=\"T_77cd6_row11_col0\" class=\"data row11 col0\" >0.015</td>\n      <td id=\"T_77cd6_row11_col1\" class=\"data row11 col1\" >-1.221</td>\n      <td id=\"T_77cd6_row11_col2\" class=\"data row11 col2\" >-0.005</td>\n      <td id=\"T_77cd6_row11_col3\" class=\"data row11 col3\" >-5.005</td>\n      <td id=\"T_77cd6_row11_col4\" class=\"data row11 col4\" >-3.700</td>\n      <td id=\"T_77cd6_row11_col5\" class=\"data row11 col5\" >-2.526</td>\n    </tr>\n    <tr>\n      <th id=\"T_77cd6_level0_row12\" class=\"row_heading level0 row12\" >cbib_loc</th>\n      <td id=\"T_77cd6_row12_col0\" class=\"data row12 col0\" >0.005</td>\n      <td id=\"T_77cd6_row12_col1\" class=\"data row12 col1\" >-0.770</td>\n      <td id=\"T_77cd6_row12_col2\" class=\"data row12 col2\" >-0.002</td>\n      <td id=\"T_77cd6_row12_col3\" class=\"data row12 col3\" >-3.866</td>\n      <td id=\"T_77cd6_row12_col4\" class=\"data row12 col4\" >-2.171</td>\n      <td id=\"T_77cd6_row12_col5\" class=\"data row12 col5\" >-1.695</td>\n    </tr>\n    <tr>\n      <th id=\"T_77cd6_level0_row13\" class=\"row_heading level0 row13\" >cbub_cat</th>\n      <td id=\"T_77cd6_row13_col0\" class=\"data row13 col0\" >0.034</td>\n      <td id=\"T_77cd6_row13_col1\" class=\"data row13 col1\" >-0.971</td>\n      <td id=\"T_77cd6_row13_col2\" class=\"data row13 col2\" >-0.003</td>\n      <td id=\"T_77cd6_row13_col3\" class=\"data row13 col3\" >-3.812</td>\n      <td id=\"T_77cd6_row13_col4\" class=\"data row13 col4\" >-3.421</td>\n      <td id=\"T_77cd6_row13_col5\" class=\"data row13 col5\" >-2.067</td>\n    </tr>\n    <tr>\n      <th id=\"T_77cd6_level0_row14\" class=\"row_heading level0 row14\" >cbub_top</th>\n      <td id=\"T_77cd6_row14_col0\" class=\"data row14 col0\" >0.036</td>\n      <td id=\"T_77cd6_row14_col1\" class=\"data row14 col1\" >-0.966</td>\n      <td id=\"T_77cd6_row14_col2\" class=\"data row14 col2\" >-0.002</td>\n      <td id=\"T_77cd6_row14_col3\" class=\"data row14 col3\" >-3.848</td>\n      <td id=\"T_77cd6_row14_col4\" class=\"data row14 col4\" >-3.353</td>\n      <td id=\"T_77cd6_row14_col5\" class=\"data row14 col5\" >-2.057</td>\n    </tr>\n    <tr>\n      <th id=\"T_77cd6_level0_row15\" class=\"row_heading level0 row15\" >cbub_loc</th>\n      <td id=\"T_77cd6_row15_col0\" class=\"data row15 col0\" >0.030</td>\n      <td id=\"T_77cd6_row15_col1\" class=\"data row15 col1\" >-0.747</td>\n      <td id=\"T_77cd6_row15_col2\" class=\"data row15 col2\" >-0.002</td>\n      <td id=\"T_77cd6_row15_col3\" class=\"data row15 col3\" >-3.587</td>\n      <td id=\"T_77cd6_row15_col4\" class=\"data row15 col4\" >-2.315</td>\n      <td id=\"T_77cd6_row15_col5\" class=\"data row15 col5\" >-1.653</td>\n    </tr>\n  </tbody>\n</table>\n"
     },
     "execution_count": 13,
     "metadata": {},
     "output_type": "execute_result"
    }
   ],
   "source": [
    "gce_results_styled = gce_results.style.background_gradient().format('{:.3f}')\n",
    "gce_results_styled"
   ],
   "metadata": {
    "collapsed": false,
    "pycharm": {
     "name": "#%%\n"
    }
   }
  },
  {
   "cell_type": "code",
   "execution_count": 18,
   "outputs": [
    {
     "data": {
      "text/plain": "<pandas.io.formats.style.Styler at 0x7f952eb98e80>",
      "text/html": "<style type=\"text/css\">\n#T_2fdd0_row0_col0, #T_2fdd0_row1_col1, #T_2fdd0_row1_col3, #T_2fdd0_row1_col5, #T_2fdd0_row2_col2, #T_2fdd0_row6_col4 {\n  background-color: #fff7fb;\n  color: #000000;\n}\n#T_2fdd0_row0_col1 {\n  background-color: #88b1d4;\n  color: #000000;\n}\n#T_2fdd0_row0_col2 {\n  background-color: #4094c3;\n  color: #f1f1f1;\n}\n#T_2fdd0_row0_col3 {\n  background-color: #023f64;\n  color: #f1f1f1;\n}\n#T_2fdd0_row0_col4, #T_2fdd0_row6_col0 {\n  background-color: #bcc7e1;\n  color: #000000;\n}\n#T_2fdd0_row0_col5, #T_2fdd0_row8_col4 {\n  background-color: #89b1d4;\n  color: #000000;\n}\n#T_2fdd0_row1_col0, #T_2fdd0_row2_col4, #T_2fdd0_row5_col2, #T_2fdd0_row6_col3, #T_2fdd0_row15_col1, #T_2fdd0_row15_col5 {\n  background-color: #023858;\n  color: #f1f1f1;\n}\n#T_2fdd0_row1_col2 {\n  background-color: #6fa7ce;\n  color: #f1f1f1;\n}\n#T_2fdd0_row1_col4 {\n  background-color: #046097;\n  color: #f1f1f1;\n}\n#T_2fdd0_row2_col0 {\n  background-color: #05659f;\n  color: #f1f1f1;\n}\n#T_2fdd0_row2_col1 {\n  background-color: #034973;\n  color: #f1f1f1;\n}\n#T_2fdd0_row2_col3, #T_2fdd0_row14_col1 {\n  background-color: #2d8abd;\n  color: #f1f1f1;\n}\n#T_2fdd0_row2_col5 {\n  background-color: #03466e;\n  color: #f1f1f1;\n}\n#T_2fdd0_row3_col0 {\n  background-color: #e7e3f0;\n  color: #000000;\n}\n#T_2fdd0_row3_col1 {\n  background-color: #056dab;\n  color: #f1f1f1;\n}\n#T_2fdd0_row3_col2 {\n  background-color: #02395a;\n  color: #f1f1f1;\n}\n#T_2fdd0_row3_col3 {\n  background-color: #0567a1;\n  color: #f1f1f1;\n}\n#T_2fdd0_row3_col4 {\n  background-color: #1379b5;\n  color: #f1f1f1;\n}\n#T_2fdd0_row3_col5 {\n  background-color: #056dac;\n  color: #f1f1f1;\n}\n#T_2fdd0_row4_col0, #T_2fdd0_row14_col5 {\n  background-color: #2f8bbe;\n  color: #f1f1f1;\n}\n#T_2fdd0_row4_col1, #T_2fdd0_row4_col5 {\n  background-color: #045b8f;\n  color: #f1f1f1;\n}\n#T_2fdd0_row4_col2 {\n  background-color: #0567a2;\n  color: #f1f1f1;\n}\n#T_2fdd0_row4_col3 {\n  background-color: #0a73b2;\n  color: #f1f1f1;\n}\n#T_2fdd0_row4_col4 {\n  background-color: #045d92;\n  color: #f1f1f1;\n}\n#T_2fdd0_row5_col0 {\n  background-color: #046299;\n  color: #f1f1f1;\n}\n#T_2fdd0_row5_col1, #T_2fdd0_row10_col2 {\n  background-color: #157ab5;\n  color: #f1f1f1;\n}\n#T_2fdd0_row5_col3 {\n  background-color: #0566a0;\n  color: #f1f1f1;\n}\n#T_2fdd0_row5_col4 {\n  background-color: #2786bb;\n  color: #f1f1f1;\n}\n#T_2fdd0_row5_col5 {\n  background-color: #167bb6;\n  color: #f1f1f1;\n}\n#T_2fdd0_row6_col1 {\n  background-color: #f1ebf4;\n  color: #000000;\n}\n#T_2fdd0_row6_col2 {\n  background-color: #fdf5fa;\n  color: #000000;\n}\n#T_2fdd0_row6_col5 {\n  background-color: #f1ebf5;\n  color: #000000;\n}\n#T_2fdd0_row7_col0 {\n  background-color: #ede7f2;\n  color: #000000;\n}\n#T_2fdd0_row7_col1 {\n  background-color: #e0deed;\n  color: #000000;\n}\n#T_2fdd0_row7_col2 {\n  background-color: #056ba7;\n  color: #f1f1f1;\n}\n#T_2fdd0_row7_col3 {\n  background-color: #4496c3;\n  color: #f1f1f1;\n}\n#T_2fdd0_row7_col4 {\n  background-color: #8fb4d6;\n  color: #000000;\n}\n#T_2fdd0_row7_col5 {\n  background-color: #e1dfed;\n  color: #000000;\n}\n#T_2fdd0_row8_col0 {\n  background-color: #cdd0e5;\n  color: #000000;\n}\n#T_2fdd0_row8_col1 {\n  background-color: #c4cbe3;\n  color: #000000;\n}\n#T_2fdd0_row8_col2, #T_2fdd0_row11_col2 {\n  background-color: #04649d;\n  color: #f1f1f1;\n}\n#T_2fdd0_row8_col3 {\n  background-color: #2383ba;\n  color: #f1f1f1;\n}\n#T_2fdd0_row8_col5 {\n  background-color: #c5cce3;\n  color: #000000;\n}\n#T_2fdd0_row9_col0 {\n  background-color: #f2ecf5;\n  color: #000000;\n}\n#T_2fdd0_row9_col1, #T_2fdd0_row9_col5 {\n  background-color: #056ead;\n  color: #f1f1f1;\n}\n#T_2fdd0_row9_col2 {\n  background-color: #023d60;\n  color: #f1f1f1;\n}\n#T_2fdd0_row9_col3, #T_2fdd0_row14_col3 {\n  background-color: #045483;\n  color: #f1f1f1;\n}\n#T_2fdd0_row9_col4 {\n  background-color: #3790c0;\n  color: #f1f1f1;\n}\n#T_2fdd0_row10_col0 {\n  background-color: #f0eaf4;\n  color: #000000;\n}\n#T_2fdd0_row10_col1 {\n  background-color: #faf2f8;\n  color: #000000;\n}\n#T_2fdd0_row10_col3 {\n  background-color: #71a8ce;\n  color: #f1f1f1;\n}\n#T_2fdd0_row10_col4 {\n  background-color: #9ab8d8;\n  color: #000000;\n}\n#T_2fdd0_row10_col5 {\n  background-color: #faf3f9;\n  color: #000000;\n}\n#T_2fdd0_row11_col0 {\n  background-color: #d5d5e8;\n  color: #000000;\n}\n#T_2fdd0_row11_col1 {\n  background-color: #d3d4e7;\n  color: #000000;\n}\n#T_2fdd0_row11_col3 {\n  background-color: #3991c1;\n  color: #f1f1f1;\n}\n#T_2fdd0_row11_col4 {\n  background-color: #86b0d3;\n  color: #000000;\n}\n#T_2fdd0_row11_col5 {\n  background-color: #d4d4e8;\n  color: #000000;\n}\n#T_2fdd0_row12_col0 {\n  background-color: #f7f0f7;\n  color: #000000;\n}\n#T_2fdd0_row12_col1, #T_2fdd0_row12_col5 {\n  background-color: #034267;\n  color: #f1f1f1;\n}\n#T_2fdd0_row12_col2, #T_2fdd0_row14_col2 {\n  background-color: #034e7b;\n  color: #f1f1f1;\n}\n#T_2fdd0_row12_col3 {\n  background-color: #045585;\n  color: #f1f1f1;\n}\n#T_2fdd0_row12_col4 {\n  background-color: #0569a5;\n  color: #f1f1f1;\n}\n#T_2fdd0_row13_col0 {\n  background-color: #5a9ec9;\n  color: #f1f1f1;\n}\n#T_2fdd0_row13_col1 {\n  background-color: #308cbe;\n  color: #f1f1f1;\n}\n#T_2fdd0_row13_col2 {\n  background-color: #045382;\n  color: #f1f1f1;\n}\n#T_2fdd0_row13_col3 {\n  background-color: #045280;\n  color: #f1f1f1;\n}\n#T_2fdd0_row13_col4 {\n  background-color: #6ba5cd;\n  color: #f1f1f1;\n}\n#T_2fdd0_row13_col5 {\n  background-color: #328dbf;\n  color: #f1f1f1;\n}\n#T_2fdd0_row14_col0 {\n  background-color: #4897c4;\n  color: #f1f1f1;\n}\n#T_2fdd0_row14_col4 {\n  background-color: #63a2cb;\n  color: #f1f1f1;\n}\n#T_2fdd0_row15_col0 {\n  background-color: #78abd0;\n  color: #f1f1f1;\n}\n#T_2fdd0_row15_col2 {\n  background-color: #034b76;\n  color: #f1f1f1;\n}\n#T_2fdd0_row15_col3 {\n  background-color: #034369;\n  color: #f1f1f1;\n}\n#T_2fdd0_row15_col4 {\n  background-color: #056fae;\n  color: #f1f1f1;\n}\n</style>\n<table id=\"T_2fdd0\">\n  <thead>\n    <tr>\n      <th class=\"blank level0\" >&nbsp;</th>\n      <th id=\"T_2fdd0_level0_col0\" class=\"col_heading level0 col0\" >nDCG</th>\n      <th id=\"T_2fdd0_level0_col1\" class=\"col_heading level0 col1\" >p_uniform</th>\n      <th id=\"T_2fdd0_level0_col2\" class=\"col_heading level0 col2\" >p_test</th>\n      <th id=\"T_2fdd0_level0_col3\" class=\"col_heading level0 col3\" >p_minority</th>\n      <th id=\"T_2fdd0_level0_col4\" class=\"col_heading level0 col4\" >p_nimby</th>\n      <th id=\"T_2fdd0_level0_col5\" class=\"col_heading level0 col5\" >p_min_nimby</th>\n    </tr>\n  </thead>\n  <tbody>\n    <tr>\n      <th id=\"T_2fdd0_level0_row0\" class=\"row_heading level0 row0\" >rand</th>\n      <td id=\"T_2fdd0_row0_col0\" class=\"data row0 col0\" >0.001448</td>\n      <td id=\"T_2fdd0_row0_col1\" class=\"data row0 col1\" >-1.087611</td>\n      <td id=\"T_2fdd0_row0_col2\" class=\"data row0 col2\" >-0.011501</td>\n      <td id=\"T_2fdd0_row0_col3\" class=\"data row0 col3\" >-3.535717</td>\n      <td id=\"T_2fdd0_row0_col4\" class=\"data row0 col4\" >-4.382354</td>\n      <td id=\"T_2fdd0_row0_col5\" class=\"data row0 col5\" >-2.280533</td>\n    </tr>\n    <tr>\n      <th id=\"T_2fdd0_level0_row1\" class=\"row_heading level0 row1\" >pop</th>\n      <td id=\"T_2fdd0_row1_col0\" class=\"data row1 col0\" >0.059993</td>\n      <td id=\"T_2fdd0_row1_col1\" class=\"data row1 col1\" >-1.368958</td>\n      <td id=\"T_2fdd0_row1_col2\" class=\"data row1 col2\" >-0.014193</td>\n      <td id=\"T_2fdd0_row1_col3\" class=\"data row1 col3\" >-7.611395</td>\n      <td id=\"T_2fdd0_row1_col4\" class=\"data row1 col4\" >-1.938612</td>\n      <td id=\"T_2fdd0_row1_col5\" class=\"data row1 col5\" >-2.789027</td>\n    </tr>\n    <tr>\n      <th id=\"T_2fdd0_level0_row2\" class=\"row_heading level0 row2\" >pop_nc</th>\n      <td id=\"T_2fdd0_row2_col0\" class=\"data row2 col0\" >0.048868</td>\n      <td id=\"T_2fdd0_row2_col1\" class=\"data row2 col1\" >-0.785854</td>\n      <td id=\"T_2fdd0_row2_col2\" class=\"data row2 col2\" >-0.028869</td>\n      <td id=\"T_2fdd0_row2_col3\" class=\"data row2 col3\" >-4.897858</td>\n      <td id=\"T_2fdd0_row2_col4\" class=\"data row2 col4\" >-1.199562</td>\n      <td id=\"T_2fdd0_row2_col5\" class=\"data row2 col5\" >-1.713661</td>\n    </tr>\n    <tr>\n      <th id=\"T_2fdd0_level0_row3\" class=\"row_heading level0 row3\" >ib</th>\n      <td id=\"T_2fdd0_row3_col0\" class=\"data row3 col0\" >0.010232</td>\n      <td id=\"T_2fdd0_row3_col1\" class=\"data row3 col1\" >-0.892110</td>\n      <td id=\"T_2fdd0_row3_col2\" class=\"data row3 col2\" >-0.000188</td>\n      <td id=\"T_2fdd0_row3_col3\" class=\"data row3 col3\" >-4.237740</td>\n      <td id=\"T_2fdd0_row3_col4\" class=\"data row3 col4\" >-2.523365</td>\n      <td id=\"T_2fdd0_row3_col5\" class=\"data row3 col5\" >-1.920173</td>\n    </tr>\n    <tr>\n      <th id=\"T_2fdd0_level0_row4\" class=\"row_heading level0 row4\" >ub</th>\n      <td id=\"T_2fdd0_row4_col0\" class=\"data row4 col0\" >0.039093</td>\n      <td id=\"T_2fdd0_row4_col1\" class=\"data row4 col1\" >-0.830708</td>\n      <td id=\"T_2fdd0_row4_col2\" class=\"data row4 col2\" >-0.005820</td>\n      <td id=\"T_2fdd0_row4_col3\" class=\"data row4 col3\" >-4.526222</td>\n      <td id=\"T_2fdd0_row4_col4\" class=\"data row4 col4\" >-1.862361</td>\n      <td id=\"T_2fdd0_row4_col5\" class=\"data row4 col5\" >-1.804197</td>\n    </tr>\n    <tr>\n      <th id=\"T_2fdd0_level0_row5\" class=\"row_heading level0 row5\" >mf</th>\n      <td id=\"T_2fdd0_row5_col0\" class=\"data row5 col0\" >0.050099</td>\n      <td id=\"T_2fdd0_row5_col1\" class=\"data row5 col1\" >-0.928132</td>\n      <td id=\"T_2fdd0_row5_col2\" class=\"data row5 col2\" >-0.000034</td>\n      <td id=\"T_2fdd0_row5_col3\" class=\"data row5 col3\" >-4.226428</td>\n      <td id=\"T_2fdd0_row5_col4\" class=\"data row5 col4\" >-2.748873</td>\n      <td id=\"T_2fdd0_row5_col5\" class=\"data row5 col5\" >-1.986882</td>\n    </tr>\n    <tr>\n      <th id=\"T_2fdd0_level0_row6\" class=\"row_heading level0 row6\" >bpr</th>\n      <td id=\"T_2fdd0_row6_col0\" class=\"data row6 col0\" >0.019554</td>\n      <td id=\"T_2fdd0_row6_col1\" class=\"data row6 col1\" >-1.308360</td>\n      <td id=\"T_2fdd0_row6_col2\" class=\"data row6 col2\" >-0.028434</td>\n      <td id=\"T_2fdd0_row6_col3\" class=\"data row6 col3\" >-3.410485</td>\n      <td id=\"T_2fdd0_row6_col4\" class=\"data row6 col4\" >-5.804112</td>\n      <td id=\"T_2fdd0_row6_col5\" class=\"data row6 col5\" >-2.684420</td>\n    </tr>\n    <tr>\n      <th id=\"T_2fdd0_level0_row7\" class=\"row_heading level0 row7\" >cb_cat</th>\n      <td id=\"T_2fdd0_row7_col0\" class=\"data row7 col0\" >0.008580</td>\n      <td id=\"T_2fdd0_row7_col1\" class=\"data row7 col1\" >-1.257740</td>\n      <td id=\"T_2fdd0_row7_col2\" class=\"data row7 col2\" >-0.006363</td>\n      <td id=\"T_2fdd0_row7_col3\" class=\"data row7 col3\" >-5.110366</td>\n      <td id=\"T_2fdd0_row7_col4\" class=\"data row7 col4\" >-3.808813</td>\n      <td id=\"T_2fdd0_row7_col5\" class=\"data row7 col5\" >-2.592381</td>\n    </tr>\n    <tr>\n      <th id=\"T_2fdd0_level0_row8\" class=\"row_heading level0 row8\" >cb_top</th>\n      <td id=\"T_2fdd0_row8_col0\" class=\"data row8 col0\" >0.016613</td>\n      <td id=\"T_2fdd0_row8_col1\" class=\"data row8 col1\" >-1.189723</td>\n      <td id=\"T_2fdd0_row8_col2\" class=\"data row8 col2\" >-0.005231</td>\n      <td id=\"T_2fdd0_row8_col3\" class=\"data row8 col3\" >-4.775555</td>\n      <td id=\"T_2fdd0_row8_col4\" class=\"data row8 col4\" >-3.743696</td>\n      <td id=\"T_2fdd0_row8_col5\" class=\"data row8 col5\" >-2.467801</td>\n    </tr>\n    <tr>\n      <th id=\"T_2fdd0_level0_row9\" class=\"row_heading level0 row9\" >cb_loc</th>\n      <td id=\"T_2fdd0_row9_col0\" class=\"data row9 col0\" >0.006525</td>\n      <td id=\"T_2fdd0_row9_col1\" class=\"data row9 col1\" >-0.895553</td>\n      <td id=\"T_2fdd0_row9_col2\" class=\"data row9 col2\" >-0.000707</td>\n      <td id=\"T_2fdd0_row9_col3\" class=\"data row9 col3\" >-3.844722</td>\n      <td id=\"T_2fdd0_row9_col4\" class=\"data row9 col4\" >-2.939884</td>\n      <td id=\"T_2fdd0_row9_col5\" class=\"data row9 col5\" >-1.927474</td>\n    </tr>\n    <tr>\n      <th id=\"T_2fdd0_level0_row10\" class=\"row_heading level0 row10\" >cbib_cat</th>\n      <td id=\"T_2fdd0_row10_col0\" class=\"data row10 col0\" >0.007327</td>\n      <td id=\"T_2fdd0_row10_col1\" class=\"data row10 col1\" >-1.344957</td>\n      <td id=\"T_2fdd0_row10_col2\" class=\"data row10 col2\" >-0.008413</td>\n      <td id=\"T_2fdd0_row10_col3\" class=\"data row10 col3\" >-5.494306</td>\n      <td id=\"T_2fdd0_row10_col4\" class=\"data row10 col4\" >-3.937541</td>\n      <td id=\"T_2fdd0_row10_col5\" class=\"data row10 col5\" >-2.752082</td>\n    </tr>\n    <tr>\n      <th id=\"T_2fdd0_level0_row11\" class=\"row_heading level0 row11\" >cbib_top</th>\n      <td id=\"T_2fdd0_row11_col0\" class=\"data row11 col0\" >0.014808</td>\n      <td id=\"T_2fdd0_row11_col1\" class=\"data row11 col1\" >-1.221367</td>\n      <td id=\"T_2fdd0_row11_col2\" class=\"data row11 col2\" >-0.005276</td>\n      <td id=\"T_2fdd0_row11_col3\" class=\"data row11 col3\" >-5.004949</td>\n      <td id=\"T_2fdd0_row11_col4\" class=\"data row11 col4\" >-3.700149</td>\n      <td id=\"T_2fdd0_row11_col5\" class=\"data row11 col5\" >-2.525694</td>\n    </tr>\n    <tr>\n      <th id=\"T_2fdd0_level0_row12\" class=\"row_heading level0 row12\" >cbib_loc</th>\n      <td id=\"T_2fdd0_row12_col0\" class=\"data row12 col0\" >0.004507</td>\n      <td id=\"T_2fdd0_row12_col1\" class=\"data row12 col1\" >-0.769969</td>\n      <td id=\"T_2fdd0_row12_col2\" class=\"data row12 col2\" >-0.002441</td>\n      <td id=\"T_2fdd0_row12_col3\" class=\"data row12 col3\" >-3.865526</td>\n      <td id=\"T_2fdd0_row12_col4\" class=\"data row12 col4\" >-2.171377</td>\n      <td id=\"T_2fdd0_row12_col5\" class=\"data row12 col5\" >-1.694614</td>\n    </tr>\n    <tr>\n      <th id=\"T_2fdd0_level0_row13\" class=\"row_heading level0 row13\" >cbub_cat</th>\n      <td id=\"T_2fdd0_row13_col0\" class=\"data row13 col0\" >0.033758</td>\n      <td id=\"T_2fdd0_row13_col1\" class=\"data row13 col1\" >-0.971247</td>\n      <td id=\"T_2fdd0_row13_col2\" class=\"data row13 col2\" >-0.002889</td>\n      <td id=\"T_2fdd0_row13_col3\" class=\"data row13 col3\" >-3.811862</td>\n      <td id=\"T_2fdd0_row13_col4\" class=\"data row13 col4\" >-3.420591</td>\n      <td id=\"T_2fdd0_row13_col5\" class=\"data row13 col5\" >-2.066965</td>\n    </tr>\n    <tr>\n      <th id=\"T_2fdd0_level0_row14\" class=\"row_heading level0 row14\" >cbub_top</th>\n      <td id=\"T_2fdd0_row14_col0\" class=\"data row14 col0\" >0.035837</td>\n      <td id=\"T_2fdd0_row14_col1\" class=\"data row14 col1\" >-0.965911</td>\n      <td id=\"T_2fdd0_row14_col2\" class=\"data row14 col2\" >-0.002434</td>\n      <td id=\"T_2fdd0_row14_col3\" class=\"data row14 col3\" >-3.847776</td>\n      <td id=\"T_2fdd0_row14_col4\" class=\"data row14 col4\" >-3.353085</td>\n      <td id=\"T_2fdd0_row14_col5\" class=\"data row14 col5\" >-2.057125</td>\n    </tr>\n    <tr>\n      <th id=\"T_2fdd0_level0_row15\" class=\"row_heading level0 row15\" >cbub_loc</th>\n      <td id=\"T_2fdd0_row15_col0\" class=\"data row15 col0\" >0.030191</td>\n      <td id=\"T_2fdd0_row15_col1\" class=\"data row15 col1\" >-0.746878</td>\n      <td id=\"T_2fdd0_row15_col2\" class=\"data row15 col2\" >-0.002118</td>\n      <td id=\"T_2fdd0_row15_col3\" class=\"data row15 col3\" >-3.587321</td>\n      <td id=\"T_2fdd0_row15_col4\" class=\"data row15 col4\" >-2.315232</td>\n      <td id=\"T_2fdd0_row15_col5\" class=\"data row15 col5\" >-1.652754</td>\n    </tr>\n  </tbody>\n</table>\n"
     },
     "execution_count": 18,
     "metadata": {},
     "output_type": "execute_result"
    }
   ],
   "source": [
    "gce_results.style.background_gradient()"
   ],
   "metadata": {
    "collapsed": false,
    "pycharm": {
     "name": "#%%\n"
    }
   }
  },
  {
   "cell_type": "code",
   "execution_count": 19,
   "id": "f3027f78",
   "metadata": {
    "scrolled": true,
    "pycharm": {
     "name": "#%%\n"
    }
   },
   "outputs": [
    {
     "data": {
      "text/plain": "<pandas.io.formats.style.Styler at 0x7f952eb9afb0>",
      "text/html": "<style type=\"text/css\">\n#T_6dc6c_row0_col0, #T_6dc6c_row7_col1, #T_6dc6c_row8_col1, #T_6dc6c_row11_col1, #T_6dc6c_row15_col0 {\n  background-color: #f8f1f8;\n  color: #000000;\n}\n#T_6dc6c_row0_col1, #T_6dc6c_row3_col0, #T_6dc6c_row5_col0 {\n  background-color: #faf3f9;\n  color: #000000;\n}\n#T_6dc6c_row0_col2 {\n  background-color: #023e62;\n  color: #f1f1f1;\n}\n#T_6dc6c_row1_col0 {\n  background-color: #fff7fb;\n  color: #000000;\n}\n#T_6dc6c_row1_col1, #T_6dc6c_row4_col1 {\n  background-color: #ede8f3;\n  color: #000000;\n}\n#T_6dc6c_row1_col2, #T_6dc6c_row3_col2 {\n  background-color: #034871;\n  color: #f1f1f1;\n}\n#T_6dc6c_row2_col0, #T_6dc6c_row8_col0 {\n  background-color: #fbf4f9;\n  color: #000000;\n}\n#T_6dc6c_row2_col1 {\n  background-color: #dedcec;\n  color: #000000;\n}\n#T_6dc6c_row2_col2 {\n  background-color: #046096;\n  color: #f1f1f1;\n}\n#T_6dc6c_row3_col1 {\n  background-color: #f2ecf5;\n  color: #000000;\n}\n#T_6dc6c_row4_col0 {\n  background-color: #fbf3f9;\n  color: #000000;\n}\n#T_6dc6c_row4_col2 {\n  background-color: #03517e;\n  color: #f1f1f1;\n}\n#T_6dc6c_row5_col1 {\n  background-color: #f4eef6;\n  color: #000000;\n}\n#T_6dc6c_row5_col2, #T_6dc6c_row9_col2 {\n  background-color: #03456c;\n  color: #f1f1f1;\n}\n#T_6dc6c_row6_col0, #T_6dc6c_row13_col1, #T_6dc6c_row14_col1 {\n  background-color: #f7f0f7;\n  color: #000000;\n}\n#T_6dc6c_row6_col1, #T_6dc6c_row10_col0 {\n  background-color: #fdf5fa;\n  color: #000000;\n}\n#T_6dc6c_row6_col2, #T_6dc6c_row11_col2 {\n  background-color: #023a5b;\n  color: #f1f1f1;\n}\n#T_6dc6c_row7_col0, #T_6dc6c_row11_col0 {\n  background-color: #fcf4fa;\n  color: #000000;\n}\n#T_6dc6c_row7_col2 {\n  background-color: #02395a;\n  color: #f1f1f1;\n}\n#T_6dc6c_row8_col2 {\n  background-color: #023b5d;\n  color: #f1f1f1;\n}\n#T_6dc6c_row9_col0, #T_6dc6c_row10_col1, #T_6dc6c_row12_col0, #T_6dc6c_row13_col0, #T_6dc6c_row14_col0 {\n  background-color: #f9f2f8;\n  color: #000000;\n}\n#T_6dc6c_row9_col1 {\n  background-color: #f5eef6;\n  color: #000000;\n}\n#T_6dc6c_row10_col2 {\n  background-color: #023858;\n  color: #f1f1f1;\n}\n#T_6dc6c_row12_col1 {\n  background-color: #f0eaf4;\n  color: #000000;\n}\n#T_6dc6c_row12_col2 {\n  background-color: #034e7b;\n  color: #f1f1f1;\n}\n#T_6dc6c_row13_col2, #T_6dc6c_row14_col2 {\n  background-color: #034267;\n  color: #f1f1f1;\n}\n#T_6dc6c_row15_col1 {\n  background-color: #f1ebf5;\n  color: #000000;\n}\n#T_6dc6c_row15_col2 {\n  background-color: #034d79;\n  color: #f1f1f1;\n}\n</style>\n<table id=\"T_6dc6c\">\n  <thead>\n    <tr>\n      <th class=\"blank level0\" >&nbsp;</th>\n      <th id=\"T_6dc6c_level0_col0\" class=\"col_heading level0 col0\" >minority</th>\n      <th id=\"T_6dc6c_level0_col1\" class=\"col_heading level0 col1\" >nimby</th>\n      <th id=\"T_6dc6c_level0_col2\" class=\"col_heading level0 col2\" >no_type</th>\n    </tr>\n  </thead>\n  <tbody>\n    <tr>\n      <th id=\"T_6dc6c_level0_row0\" class=\"row_heading level0 row0\" >pm_rand</th>\n      <td id=\"T_6dc6c_row0_col0\" class=\"data row0 col0\" >0.080918</td>\n      <td id=\"T_6dc6c_row0_col1\" class=\"data row0 col1\" >0.066463</td>\n      <td id=\"T_6dc6c_row0_col2\" class=\"data row0 col2\" >0.852619</td>\n    </tr>\n    <tr>\n      <th id=\"T_6dc6c_level0_row1\" class=\"row_heading level0 row1\" >pm_pop</th>\n      <td id=\"T_6dc6c_row1_col0\" class=\"data row1 col0\" >0.039657</td>\n      <td id=\"T_6dc6c_row1_col1\" class=\"data row1 col1\" >0.138742</td>\n      <td id=\"T_6dc6c_row1_col2\" class=\"data row1 col2\" >0.821602</td>\n    </tr>\n    <tr>\n      <th id=\"T_6dc6c_level0_row2\" class=\"row_heading level0 row2\" >pm_pop_nc</th>\n      <td id=\"T_6dc6c_row2_col0\" class=\"data row2 col0\" >0.059635</td>\n      <td id=\"T_6dc6c_row2_col1\" class=\"data row2 col1\" >0.198884</td>\n      <td id=\"T_6dc6c_row2_col2\" class=\"data row2 col2\" >0.741481</td>\n    </tr>\n    <tr>\n      <th id=\"T_6dc6c_level0_row3\" class=\"row_heading level0 row3\" >pm_ib</th>\n      <td id=\"T_6dc6c_row3_col0\" class=\"data row3 col0\" >0.068293</td>\n      <td id=\"T_6dc6c_row3_col1\" class=\"data row3 col1\" >0.108693</td>\n      <td id=\"T_6dc6c_row3_col2\" class=\"data row3 col2\" >0.823014</td>\n    </tr>\n    <tr>\n      <th id=\"T_6dc6c_level0_row4\" class=\"row_heading level0 row4\" >pm_ub</th>\n      <td id=\"T_6dc6c_row4_col0\" class=\"data row4 col0\" >0.064201</td>\n      <td id=\"T_6dc6c_row4_col1\" class=\"data row4 col1\" >0.140462</td>\n      <td id=\"T_6dc6c_row4_col2\" class=\"data row4 col2\" >0.795337</td>\n    </tr>\n    <tr>\n      <th id=\"T_6dc6c_level0_row5\" class=\"row_heading level0 row5\" >pm_mf</th>\n      <td id=\"T_6dc6c_row5_col0\" class=\"data row5 col0\" >0.068510</td>\n      <td id=\"T_6dc6c_row5_col1\" class=\"data row5 col1\" >0.100950</td>\n      <td id=\"T_6dc6c_row5_col2\" class=\"data row5 col2\" >0.830540</td>\n    </tr>\n    <tr>\n      <th id=\"T_6dc6c_level0_row6\" class=\"row_heading level0 row6\" >pm_bpr</th>\n      <td id=\"T_6dc6c_row6_col0\" class=\"data row6 col0\" >0.084051</td>\n      <td id=\"T_6dc6c_row6_col1\" class=\"data row6 col1\" >0.051292</td>\n      <td id=\"T_6dc6c_row6_col2\" class=\"data row6 col2\" >0.864658</td>\n    </tr>\n    <tr>\n      <th id=\"T_6dc6c_level0_row7\" class=\"row_heading level0 row7\" >pm_cb_cat</th>\n      <td id=\"T_6dc6c_row7_col0\" class=\"data row7 col0\" >0.057775</td>\n      <td id=\"T_6dc6c_row7_col1\" class=\"data row7 col1\" >0.075892</td>\n      <td id=\"T_6dc6c_row7_col2\" class=\"data row7 col2\" >0.866332</td>\n    </tr>\n    <tr>\n      <th id=\"T_6dc6c_level0_row8\" class=\"row_heading level0 row8\" >pm_cb_top</th>\n      <td id=\"T_6dc6c_row8_col0\" class=\"data row8 col0\" >0.061482</td>\n      <td id=\"T_6dc6c_row8_col1\" class=\"data row8 col1\" >0.076987</td>\n      <td id=\"T_6dc6c_row8_col2\" class=\"data row8 col2\" >0.861532</td>\n    </tr>\n    <tr>\n      <th id=\"T_6dc6c_level0_row9\" class=\"row_heading level0 row9\" >pm_cb_loc</th>\n      <td id=\"T_6dc6c_row9_col0\" class=\"data row9 col0\" >0.074660</td>\n      <td id=\"T_6dc6c_row9_col1\" class=\"data row9 col1\" >0.095043</td>\n      <td id=\"T_6dc6c_row9_col2\" class=\"data row9 col2\" >0.830297</td>\n    </tr>\n    <tr>\n      <th id=\"T_6dc6c_level0_row10\" class=\"row_heading level0 row10\" >pm_cbib_cat</th>\n      <td id=\"T_6dc6c_row10_col0\" class=\"data row10 col0\" >0.054047</td>\n      <td id=\"T_6dc6c_row10_col1\" class=\"data row10 col1\" >0.073745</td>\n      <td id=\"T_6dc6c_row10_col2\" class=\"data row10 col2\" >0.872208</td>\n    </tr>\n    <tr>\n      <th id=\"T_6dc6c_level0_row11\" class=\"row_heading level0 row11\" >pm_cbib_top</th>\n      <td id=\"T_6dc6c_row11_col0\" class=\"data row11 col0\" >0.058878</td>\n      <td id=\"T_6dc6c_row11_col1\" class=\"data row11 col1\" >0.077870</td>\n      <td id=\"T_6dc6c_row11_col2\" class=\"data row11 col2\" >0.863252</td>\n    </tr>\n    <tr>\n      <th id=\"T_6dc6c_level0_row12\" class=\"row_heading level0 row12\" >pm_cbib_loc</th>\n      <td id=\"T_6dc6c_row12_col0\" class=\"data row12 col0\" >0.074096</td>\n      <td id=\"T_6dc6c_row12_col1\" class=\"data row12 col1\" >0.123187</td>\n      <td id=\"T_6dc6c_row12_col2\" class=\"data row12 col2\" >0.802716</td>\n    </tr>\n    <tr>\n      <th id=\"T_6dc6c_level0_row13\" class=\"row_heading level0 row13\" >pm_cbub_cat</th>\n      <td id=\"T_6dc6c_row13_col0\" class=\"data row13 col0\" >0.075369</td>\n      <td id=\"T_6dc6c_row13_col1\" class=\"data row13 col1\" >0.083153</td>\n      <td id=\"T_6dc6c_row13_col2\" class=\"data row13 col2\" >0.841478</td>\n    </tr>\n    <tr>\n      <th id=\"T_6dc6c_level0_row14\" class=\"row_heading level0 row14\" >pm_cbub_top</th>\n      <td id=\"T_6dc6c_row14_col0\" class=\"data row14 col0\" >0.074718</td>\n      <td id=\"T_6dc6c_row14_col1\" class=\"data row14 col1\" >0.084651</td>\n      <td id=\"T_6dc6c_row14_col2\" class=\"data row14 col2\" >0.840631</td>\n    </tr>\n    <tr>\n      <th id=\"T_6dc6c_level0_row15\" class=\"row_heading level0 row15\" >pm_cbub_loc</th>\n      <td id=\"T_6dc6c_row15_col0\" class=\"data row15 col0\" >0.079243</td>\n      <td id=\"T_6dc6c_row15_col1\" class=\"data row15 col1\" >0.116537</td>\n      <td id=\"T_6dc6c_row15_col2\" class=\"data row15 col2\" >0.804220</td>\n    </tr>\n  </tbody>\n</table>\n"
     },
     "execution_count": 19,
     "metadata": {},
     "output_type": "execute_result"
    }
   ],
   "source": [
    "pm.style.background_gradient(axis=None)"
   ]
  },
  {
   "cell_type": "code",
   "execution_count": 20,
   "id": "7c08d1ff",
   "metadata": {
    "pycharm": {
     "name": "#%%\n"
    }
   },
   "outputs": [],
   "source": [
    "pf = pd.DataFrame(data=pf, index=TYPES_ORDER.keys()).T"
   ]
  },
  {
   "cell_type": "code",
   "execution_count": 21,
   "id": "351c0f13",
   "metadata": {
    "scrolled": false,
    "pycharm": {
     "name": "#%%\n"
    }
   },
   "outputs": [
    {
     "data": {
      "text/plain": "             minority  nimby  no_type\np_uniform       0.333  0.333    0.333\np_test          0.067  0.103    0.830\np_minority      0.800  0.100    0.100\np_nimby         0.100  0.800    0.100\np_min_nimby     0.450  0.450    0.100",
      "text/html": "<div>\n<style scoped>\n    .dataframe tbody tr th:only-of-type {\n        vertical-align: middle;\n    }\n\n    .dataframe tbody tr th {\n        vertical-align: top;\n    }\n\n    .dataframe thead th {\n        text-align: right;\n    }\n</style>\n<table border=\"1\" class=\"dataframe\">\n  <thead>\n    <tr style=\"text-align: right;\">\n      <th></th>\n      <th>minority</th>\n      <th>nimby</th>\n      <th>no_type</th>\n    </tr>\n  </thead>\n  <tbody>\n    <tr>\n      <th>p_uniform</th>\n      <td>0.333</td>\n      <td>0.333</td>\n      <td>0.333</td>\n    </tr>\n    <tr>\n      <th>p_test</th>\n      <td>0.067</td>\n      <td>0.103</td>\n      <td>0.830</td>\n    </tr>\n    <tr>\n      <th>p_minority</th>\n      <td>0.800</td>\n      <td>0.100</td>\n      <td>0.100</td>\n    </tr>\n    <tr>\n      <th>p_nimby</th>\n      <td>0.100</td>\n      <td>0.800</td>\n      <td>0.100</td>\n    </tr>\n    <tr>\n      <th>p_min_nimby</th>\n      <td>0.450</td>\n      <td>0.450</td>\n      <td>0.100</td>\n    </tr>\n  </tbody>\n</table>\n</div>"
     },
     "execution_count": 21,
     "metadata": {},
     "output_type": "execute_result"
    }
   ],
   "source": [
    "pf.round(3)"
   ]
  }
 ],
 "metadata": {
  "kernelspec": {
   "display_name": "Python (decide-madrid)",
   "language": "python",
   "name": "decide-madrid"
  },
  "language_info": {
   "codemirror_mode": {
    "name": "ipython",
    "version": 3
   },
   "file_extension": ".py",
   "mimetype": "text/x-python",
   "name": "python",
   "nbconvert_exporter": "python",
   "pygments_lexer": "ipython3",
   "version": "3.10.0"
  }
 },
 "nbformat": 4,
 "nbformat_minor": 5
}